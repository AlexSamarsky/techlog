{
 "cells": [
  {
   "cell_type": "code",
   "execution_count": 5,
   "source": [
    "from TechLogCsv import TechLogCsv\n",
    "\n",
    "tlc = TechLogCsv('test.log', 'test_o.log', 'fields.txt')\n",
    "tlc.main_process()"
   ],
   "outputs": [],
   "metadata": {}
  }
 ],
 "metadata": {
  "orig_nbformat": 4,
  "language_info": {
   "name": "python",
   "version": "3.9.4",
   "mimetype": "text/x-python",
   "codemirror_mode": {
    "name": "ipython",
    "version": 3
   },
   "pygments_lexer": "ipython3",
   "nbconvert_exporter": "python",
   "file_extension": ".py"
  },
  "kernelspec": {
   "name": "python3",
   "display_name": "Python 3.9.4 64-bit ('py_projs': venv)"
  },
  "interpreter": {
   "hash": "ab77902473286d4d87e6f645bf2d9fe17d8cfefb3b02d12d1f44b181e267cabf"
  }
 },
 "nbformat": 4,
 "nbformat_minor": 2
}